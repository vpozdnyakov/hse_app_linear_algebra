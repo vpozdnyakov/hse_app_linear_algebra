{
 "cells": [
  {
   "cell_type": "markdown",
   "metadata": {},
   "source": [
    "# Прикладная линейная алгебра"
   ]
  },
  {
   "cell_type": "markdown",
   "metadata": {},
   "source": [
    "## Домашняя контрольная работа 2"
   ]
  },
  {
   "cell_type": "markdown",
   "metadata": {},
   "source": [
    "## Поздняков Виталий, Вариант 18"
   ]
  },
  {
   "cell_type": "markdown",
   "metadata": {},
   "source": [
    "___"
   ]
  },
  {
   "cell_type": "markdown",
   "metadata": {},
   "source": [
    "#### 1. Найти лучшее приближение матрицы $A_1$ ранга 2 матрицы $A$ в норме $\\Vert \\cdot \\Vert_2$ и найти $\\Vert A - A_1 \\Vert_2$ где $A$"
   ]
  },
  {
   "cell_type": "code",
   "execution_count": 1,
   "metadata": {},
   "outputs": [],
   "source": [
    "import numpy as np"
   ]
  },
  {
   "cell_type": "code",
   "execution_count": 2,
   "metadata": {},
   "outputs": [],
   "source": [
    "A = np.array([[10, -4, -7, -1], \n",
    "              [15,  25, 8, -4], \n",
    "              [12,  1,  2, -5], \n",
    "              [-8, -6,  0, -4]])"
   ]
  },
  {
   "cell_type": "code",
   "execution_count": 3,
   "metadata": {},
   "outputs": [
    {
     "data": {
      "text/plain": [
       "4"
      ]
     },
     "execution_count": 3,
     "metadata": {},
     "output_type": "execute_result"
    }
   ],
   "source": [
    "np.linalg.matrix_rank(A)"
   ]
  },
  {
   "cell_type": "markdown",
   "metadata": {},
   "source": [
    "Ранг матрицы $rk(A) = 4$, значит сама матрица $A$ не может быть использована в качестве приближения. \n",
    "\n",
    "По теореме приближения матриц по унитарным инвариантным нормам лучшее приближение матрицы $A$ есть матрица $A_1$ такая что \n",
    "\n",
    "$$A_1 = U^* \\Sigma^0_{(r)}V \\approx A$$\n",
    "\n",
    "Где $U^* \\Sigma^0_{(r)}V$ — сингулярное разложение, в котором матрица $\\Sigma$ имеет все нулевые сингулярные значения старше индекса $r$. Найдем сингулярное разложение."
   ]
  },
  {
   "cell_type": "code",
   "execution_count": 4,
   "metadata": {},
   "outputs": [
    {
     "name": "stdout",
     "output_type": "stream",
     "text": [
      "U:\n",
      "[[-0.05  0.8  -0.25 -0.55]\n",
      " [-0.92 -0.25  0.04 -0.3 ]\n",
      " [-0.28  0.53  0.63  0.5 ]\n",
      " [ 0.27 -0.17  0.73 -0.6 ]]\n",
      "Sigma:\n",
      "[[32.81  0.    0.    0.  ]\n",
      " [ 0.   15.77  0.    0.  ]\n",
      " [ 0.    0.    7.09  0.  ]\n",
      " [ 0.    0.    0.    3.28]]\n",
      "V:\n",
      "[[-0.6  -0.75 -0.23  0.12]\n",
      " [ 0.76 -0.5  -0.41 -0.11]\n",
      " [-0.04 -0.25  0.47 -0.84]\n",
      " [ 0.25 -0.35  0.74  0.51]]\n"
     ]
    }
   ],
   "source": [
    "U, Sigma, V = np.linalg.svd(A)\n",
    "print('U:')\n",
    "print(U.round(2))\n",
    "print('Sigma:')\n",
    "print(np.diag(Sigma).round(2))\n",
    "print('V:')\n",
    "print(V.round(2))"
   ]
  },
  {
   "cell_type": "markdown",
   "metadata": {},
   "source": [
    "Теперь заменим все сингулярные значения старше второго на ноль"
   ]
  },
  {
   "cell_type": "code",
   "execution_count": 5,
   "metadata": {},
   "outputs": [],
   "source": [
    "Sigma1 = np.diag(np.array([Sigma[0], Sigma[1], 0, 0]))"
   ]
  },
  {
   "cell_type": "markdown",
   "metadata": {},
   "source": [
    "Тогда матрица $A_1$ имеет вид"
   ]
  },
  {
   "cell_type": "code",
   "execution_count": 6,
   "metadata": {},
   "outputs": [
    {
     "name": "stdout",
     "output_type": "stream",
     "text": [
      "[[10.39 -5.08 -4.81 -1.6 ]\n",
      " [15.26 24.73  8.6  -3.28]\n",
      " [11.75  2.7  -1.33 -2.06]\n",
      " [-7.31 -5.37 -0.97  1.38]]\n"
     ]
    }
   ],
   "source": [
    "A1 = (U @ Sigma1 @ V)\n",
    "print(A1.round(2))"
   ]
  },
  {
   "cell_type": "markdown",
   "metadata": {},
   "source": [
    "Проверим ранг матрицы $A_1$"
   ]
  },
  {
   "cell_type": "code",
   "execution_count": 7,
   "metadata": {},
   "outputs": [
    {
     "data": {
      "text/plain": [
       "2"
      ]
     },
     "execution_count": 7,
     "metadata": {},
     "output_type": "execute_result"
    }
   ],
   "source": [
    "np.linalg.matrix_rank(A1)"
   ]
  },
  {
   "cell_type": "markdown",
   "metadata": {},
   "source": [
    "Значит полученная матрица $A_1$ – ближайшее приближение ранга 2 матрицы $A$. \n",
    "\n",
    "Теперь найдем значение нормы разности этих матриц. Пусть $\\Delta A = A - A_1$"
   ]
  },
  {
   "cell_type": "code",
   "execution_count": 8,
   "metadata": {},
   "outputs": [
    {
     "name": "stdout",
     "output_type": "stream",
     "text": [
      "[[-0.39  1.08 -2.19  0.6 ]\n",
      " [-0.26  0.27 -0.6  -0.72]\n",
      " [ 0.25 -1.7   3.33 -2.94]\n",
      " [-0.69 -0.63  0.97 -5.38]]\n"
     ]
    }
   ],
   "source": [
    "deltaA = A - A1\n",
    "print(deltaA.round(2))"
   ]
  },
  {
   "cell_type": "markdown",
   "metadata": {},
   "source": [
    "По свойству спектральной нормы $\\Vert \\Delta A \\Vert_2 = \\sigma_1$, то есть спектральная норма равна максимальному сингулярному значению. Найдем сингулярное разложение матрицы $\\Delta A$."
   ]
  },
  {
   "cell_type": "code",
   "execution_count": 9,
   "metadata": {},
   "outputs": [
    {
     "name": "stdout",
     "output_type": "stream",
     "text": [
      "U:\n",
      "[[ 0.25  0.55 -0.54  0.59]\n",
      " [-0.04  0.3  -0.56 -0.77]\n",
      " [-0.63 -0.5  -0.55  0.24]\n",
      " [-0.73  0.6   0.31  0.04]]\n",
      "Sigma:\n",
      "[[7.09 0.   0.   0.  ]\n",
      " [0.   3.28 0.   0.  ]\n",
      " [0.   0.   0.   0.  ]\n",
      " [0.   0.   0.   0.  ]]\n",
      "V:\n",
      "[[ 0.04  0.25 -0.47  0.84]\n",
      " [-0.25  0.35 -0.74 -0.51]\n",
      " [-0.72 -0.66 -0.16  0.14]\n",
      " [ 0.65 -0.61 -0.44 -0.09]]\n"
     ]
    }
   ],
   "source": [
    "U, Sigma, V = np.linalg.svd(deltaA)\n",
    "print('U:')\n",
    "print(U.round(2))\n",
    "print('Sigma:')\n",
    "print(np.diag(Sigma).round(2))\n",
    "print('V:')\n",
    "print(V.round(2))"
   ]
  },
  {
   "cell_type": "markdown",
   "metadata": {},
   "source": [
    "Таким образом $\\Vert A - A_1 \\Vert_2 = 7.09$"
   ]
  },
  {
   "cell_type": "markdown",
   "metadata": {},
   "source": [
    "#### 2. Оцените с помощью числа обсуловленности матрицы $A$ относительную погрешность приближенного решения $(1, 1)$ системы $AX = B$ в норме $\\vert \\cdot \\vert_1$, где $A$ и $B$ равны соответсвенно"
   ]
  },
  {
   "cell_type": "code",
   "execution_count": 10,
   "metadata": {},
   "outputs": [],
   "source": [
    "A = np.array([[0.02,  0.4], \n",
    "              [1.03, -1.07]])\n",
    "\n",
    "B = np.array([[-7.05], \n",
    "              [-5.1]])"
   ]
  },
  {
   "cell_type": "markdown",
   "metadata": {},
   "source": [
    "Приближенное решение $\\hat X = (1, 1)^T$\n",
    "\n",
    "Обозначим относительную погрешность $\\delta X$"
   ]
  },
  {
   "cell_type": "markdown",
   "metadata": {},
   "source": [
    "По свойству числа обусловленности:\n",
    "\n",
    "$$\\frac{1}{\\varkappa(A)} \\delta B \\leq \\delta X \\leq \\varkappa(A)\\delta B$$"
   ]
  },
  {
   "cell_type": "markdown",
   "metadata": {},
   "source": [
    "Число обусловленности матрицы $A$ по определению "
   ]
  },
  {
   "cell_type": "code",
   "execution_count": 11,
   "metadata": {},
   "outputs": [
    {
     "data": {
      "text/plain": [
       "7.12"
      ]
     },
     "execution_count": 11,
     "metadata": {},
     "output_type": "execute_result"
    }
   ],
   "source": [
    "kappaA = np.linalg.norm(A, 1) * np.linalg.norm(np.linalg.inv(A), 1)\n",
    "round(kappaA, 2)"
   ]
  },
  {
   "cell_type": "markdown",
   "metadata": {},
   "source": [
    "$\\varkappa(A) = \\Vert A \\Vert \\Vert A^{-1} \\Vert = 7.12$"
   ]
  },
  {
   "cell_type": "markdown",
   "metadata": {},
   "source": [
    "Возьмем произвольный приближенный вектор $\\hat B$, например"
   ]
  },
  {
   "cell_type": "code",
   "execution_count": 12,
   "metadata": {},
   "outputs": [
    {
     "name": "stdout",
     "output_type": "stream",
     "text": [
      "[[-7.]\n",
      " [-5.]]\n"
     ]
    }
   ],
   "source": [
    "hatB = B.round()\n",
    "print(hatB)"
   ]
  },
  {
   "cell_type": "markdown",
   "metadata": {},
   "source": [
    "Теперь вычислим $\\delta B = \\frac{|\\Delta B|_1}{|B|}$"
   ]
  },
  {
   "cell_type": "code",
   "execution_count": 13,
   "metadata": {},
   "outputs": [
    {
     "name": "stdout",
     "output_type": "stream",
     "text": [
      "0.01\n"
     ]
    }
   ],
   "source": [
    "deltaB = np.linalg.norm(B - hatB, 2) / np.linalg.norm(B, 2)\n",
    "print(round(deltaB, 2))"
   ]
  },
  {
   "cell_type": "markdown",
   "metadata": {},
   "source": [
    "Тогда нижняя граница"
   ]
  },
  {
   "cell_type": "code",
   "execution_count": 14,
   "metadata": {},
   "outputs": [
    {
     "data": {
      "text/plain": [
       "0.0018"
      ]
     },
     "execution_count": 14,
     "metadata": {},
     "output_type": "execute_result"
    }
   ],
   "source": [
    "round(1/kappaA * deltaB, 4)"
   ]
  },
  {
   "cell_type": "markdown",
   "metadata": {},
   "source": [
    "Верхняя граница"
   ]
  },
  {
   "cell_type": "code",
   "execution_count": 15,
   "metadata": {},
   "outputs": [
    {
     "data": {
      "text/plain": [
       "0.0915"
      ]
     },
     "execution_count": 15,
     "metadata": {},
     "output_type": "execute_result"
    }
   ],
   "source": [
    "round(kappaA * deltaB, 4)"
   ]
  },
  {
   "cell_type": "markdown",
   "metadata": {},
   "source": [
    "Таким образом, $0.001 \\leq \\delta x \\leq 0.092$"
   ]
  },
  {
   "cell_type": "markdown",
   "metadata": {},
   "source": [
    "#### 3. Решить приближенно систему и оценить погрешности решения в нормах $|\\cdot|_1$, $|\\cdot|_2$, $|\\cdot|_\\infty$: $$\\begin{cases}\n",
    "0(0+\\epsilon_1)x + 2(-2+\\epsilon_2)y = 3 + \\epsilon_3 \\\\\n",
    "-1x + (-3 + \\epsilon_1)y = 1 + \\epsilon_4\n",
    "\\end{cases}$$ где неизвестные числа $\\epsilon_j$ удовлетворяют условиям $|\\epsilon_j|<0.05$ для всех $j$"
   ]
  },
  {
   "cell_type": "markdown",
   "metadata": {},
   "source": [
    "Сначала решим систему символьно:"
   ]
  },
  {
   "cell_type": "markdown",
   "metadata": {},
   "source": [
    "$$\\begin{cases}\n",
    "0(0+\\epsilon_1)x + 2(-2+\\epsilon_2)y = 3 + \\epsilon_3 \\\\\n",
    "-1x + (-3 + \\epsilon_1)y = 1 + \\epsilon_4\n",
    "\\end{cases} = \n",
    "\\begin{cases}\n",
    "y = \\frac{3 + \\epsilon_3}{(-4+2\\epsilon_2)} \\\\\n",
    "-x + (-3 + \\epsilon_1)y = 1 + \\epsilon_4\n",
    "\\end{cases}\n",
    "\\begin{cases}\n",
    "y = \\frac{3 + \\epsilon_3}{(-4+2\\epsilon_2)} \\\\\n",
    "x = -1 - \\epsilon_4 + (-3 + \\epsilon_1)\\frac{3 + \\epsilon_3}{(-4+2\\epsilon_2)}\n",
    "\\end{cases}$$"
   ]
  },
  {
   "cell_type": "markdown",
   "metadata": {},
   "source": [
    "Представим систему в векторном виде $AX = B \\Leftrightarrow \\begin{pmatrix}\n",
    "0 & -4+2\\epsilon_2\\\\\n",
    "-1 & -3 + \\epsilon_1\n",
    "\\end{pmatrix}\n",
    "\\begin{pmatrix}\n",
    "x \\\\\n",
    "y\n",
    "\\end{pmatrix} = \n",
    "\\begin{pmatrix}\n",
    "3 + \\epsilon_3 \\\\\n",
    "1 + \\epsilon_4\n",
    "\\end{pmatrix}$"
   ]
  },
  {
   "cell_type": "markdown",
   "metadata": {},
   "source": [
    "Теперь оценим решение по свойству числа обусловленности\n",
    "\n",
    "$$\\frac{1}{\\varkappa(A)} (\\delta B + \\delta A) \\leq \\delta X \\leq \\varkappa(A) (\\delta B + \\delta A)$$"
   ]
  },
  {
   "cell_type": "markdown",
   "metadata": {},
   "source": [
    "Так как $\\epsilon_j$ неизвестны, то будем оценивать решение по максимально широкому интервалу. Найдем значения $\\epsilon_1$ и $\\epsilon_2$ при которых $\\varkappa(A)$ максимально. Без потери общности, по норме $|\\cdot|_1$:"
   ]
  },
  {
   "cell_type": "code",
   "execution_count": 16,
   "metadata": {},
   "outputs": [
    {
     "data": {
      "text/plain": [
       "7.22"
      ]
     },
     "execution_count": 16,
     "metadata": {},
     "output_type": "execute_result"
    }
   ],
   "source": [
    "eps = [-0.05, 0.05, 0, 0]\n",
    "hatA = np.array([[0,  -4 ], \n",
    "              [-1, -3 ]])\n",
    "A = np.array([[0,  -4 + 2*eps[1]], \n",
    "              [-1, -3 +   eps[0]]])\n",
    "kappaA = np.linalg.norm(A, 1) * np.linalg.norm(np.linalg.inv(A), 1)\n",
    "round(kappaA, 2)"
   ]
  },
  {
   "cell_type": "markdown",
   "metadata": {},
   "source": [
    "Значит $\\epsilon_1 = -0.05$ и $\\epsilon_2 = 0.05$"
   ]
  },
  {
   "cell_type": "markdown",
   "metadata": {},
   "source": [
    "Аналогичным образом найдем $\\epsilon_3$ и $\\epsilon_4$ при которых $\\delta B$ максимально."
   ]
  },
  {
   "cell_type": "code",
   "execution_count": 17,
   "metadata": {},
   "outputs": [
    {
     "name": "stdout",
     "output_type": "stream",
     "text": [
      "0.026\n"
     ]
    }
   ],
   "source": [
    "eps = [-0.05, 0.05, -0.05, -0.05]\n",
    "hatB = np.array([3, 1])\n",
    "B = np.array([3 + eps[2], 1 + eps[3]])\n",
    "deltaB = np.linalg.norm(B - hatB, 1) / np.linalg.norm(B, 1)\n",
    "print(round(deltaB, 3))"
   ]
  },
  {
   "cell_type": "markdown",
   "metadata": {},
   "source": [
    "Значит $\\epsilon_3 = -0.05$ и $\\epsilon_4 = -0.05$"
   ]
  },
  {
   "cell_type": "markdown",
   "metadata": {},
   "source": [
    "Теперь оценим относительную погрешноть решения. Нижние границы:"
   ]
  },
  {
   "cell_type": "code",
   "execution_count": 18,
   "metadata": {},
   "outputs": [
    {
     "name": "stdout",
     "output_type": "stream",
     "text": [
      "По норме 1: 0.0065\n",
      "По норме 2: 0.0071\n",
      "По норме inf: 0.0058\n"
     ]
    }
   ],
   "source": [
    "norms = [1, 2, np.inf]\n",
    "for n in norms:\n",
    "    kappaA = np.linalg.norm(A, n) * np.linalg.norm(np.linalg.inv(A), n)\n",
    "    deltaA = np.linalg.norm(A - hatA, n) / np.linalg.norm(A, n)\n",
    "    deltaB = np.linalg.norm(B - hatB, n) / np.linalg.norm(B, n)\n",
    "    print('По норме {}:'.format(n), round(1/kappaA * (deltaB + deltaA), 4))"
   ]
  },
  {
   "cell_type": "markdown",
   "metadata": {},
   "source": [
    "Верхние границы:"
   ]
  },
  {
   "cell_type": "code",
   "execution_count": 19,
   "metadata": {},
   "outputs": [
    {
     "name": "stdout",
     "output_type": "stream",
     "text": [
      "По норме 1: 0.3408\n",
      "По норме 2: 0.2887\n",
      "По норме inf: 0.3005\n"
     ]
    }
   ],
   "source": [
    "norms = [1, 2, np.inf]\n",
    "for n in norms:\n",
    "    kappaA = np.linalg.norm(A, n) * np.linalg.norm(np.linalg.inv(A), n)\n",
    "    deltaA = np.linalg.norm(A - hatA, n) / np.linalg.norm(A, n)\n",
    "    deltaB = np.linalg.norm(B - hatB, n) / np.linalg.norm(B, n)\n",
    "    print('По норме {}:'.format(n), round(kappaA * (deltaB + deltaA), 4))"
   ]
  },
  {
   "cell_type": "markdown",
   "metadata": {},
   "source": [
    "#### 4. Найдите приближенно обратную матрицу к матрице $A$ и оцените погрешность приближения относительно равномерной нормы если элементы матрицы $A$ известны с абсолютной погрешностью $0.01$"
   ]
  },
  {
   "cell_type": "code",
   "execution_count": 20,
   "metadata": {},
   "outputs": [],
   "source": [
    "A = np.array([[ 5, -7], \n",
    "              [-1,  1]])\n",
    "\n",
    "Delta = np.array([[0.01, 0.01], \n",
    "                  [0.01, 0.01]])"
   ]
  },
  {
   "cell_type": "markdown",
   "metadata": {},
   "source": [
    "Оценим относительную погрешность сверху\n",
    "\n",
    "$$\\delta A^{-1}\\leq \\varkappa(A)\\frac{\\Vert \\Delta \\Vert}{\\Vert A \\Vert}$$"
   ]
  },
  {
   "cell_type": "code",
   "execution_count": 21,
   "metadata": {},
   "outputs": [
    {
     "data": {
      "text/plain": [
       "0.08"
      ]
     },
     "execution_count": 21,
     "metadata": {},
     "output_type": "execute_result"
    }
   ],
   "source": [
    "round(np.linalg.norm(A, np.inf) \n",
    "      * np.linalg.norm(np.linalg.inv(A), np.inf) \n",
    "      * (np.linalg.norm(Delta, np.inf)\n",
    "         / np.linalg.norm(A, np.inf)), 2)"
   ]
  },
  {
   "cell_type": "markdown",
   "metadata": {},
   "source": [
    "Матрица $A^{-1}$ имеет вид"
   ]
  },
  {
   "cell_type": "code",
   "execution_count": 22,
   "metadata": {},
   "outputs": [
    {
     "name": "stdout",
     "output_type": "stream",
     "text": [
      "[[-0.5 -3.5]\n",
      " [-0.5 -2.5]]\n"
     ]
    }
   ],
   "source": [
    "print(np.linalg.inv(A))"
   ]
  },
  {
   "cell_type": "markdown",
   "metadata": {},
   "source": [
    "#### 5. Решите систему линейный уравнений методом итераций $$\\begin{cases}\n",
    "24x + 8y + 5z = 7 \\\\\n",
    "6x + 23y + 8z = 5 \\\\\n",
    "1x + 1y + 20z = 7\n",
    "\\end{cases}$$ Определите номер итерации, после которой погрешность приближения по каждой координате не превосходит $0.01$ и найдите соответствующее приближенное решение"
   ]
  },
  {
   "cell_type": "code",
   "execution_count": 23,
   "metadata": {},
   "outputs": [],
   "source": [
    "A = np.array([[24, 8, 5], \n",
    "              [6, 23, 8], \n",
    "              [1, 1, 20]])\n",
    "\n",
    "B = np.array([7, 5, 7])"
   ]
  },
  {
   "cell_type": "markdown",
   "metadata": {},
   "source": [
    "Сначала приведем систему к виду, удобному для итераций\n",
    "\n",
    "$$X_{k+1} = P X_{k} + B$$\n",
    "\n",
    "Учитывая диагональное преобладание матрицы $A$"
   ]
  },
  {
   "cell_type": "markdown",
   "metadata": {},
   "source": [
    "$$\\begin{cases}\n",
    "24x + 8y + 5z = 7 \\\\\n",
    "6x + 23y + 8z = 5 \\\\\n",
    "1x + 1y + 20z = 7\n",
    "\\end{cases} \\Leftrightarrow\n",
    "\\begin{cases}\n",
    "24x = - 8y - 5z + 7 \\\\\n",
    "23y = - 6x - 8z + 5 \\\\\n",
    "20z = - 1x - 1y + 7\n",
    "\\end{cases} \\Leftrightarrow\n",
    "\\begin{cases}\n",
    "x = - 8y/24 - 5z/24 + 7/24 \\\\\n",
    "y = - 6x/23 - 8z/23 + 5/23 \\\\\n",
    "z = - 1x/20 - 1y/20 + 7/20\n",
    "\\end{cases}$$"
   ]
  },
  {
   "cell_type": "markdown",
   "metadata": {},
   "source": [
    "Тогда матрица $P$ и вектор $B$ имеют вид"
   ]
  },
  {
   "cell_type": "code",
   "execution_count": 24,
   "metadata": {},
   "outputs": [],
   "source": [
    "P = np.array([[0,     -8/24, -5/24], \n",
    "              [-6/23,  0,    -8/23], \n",
    "              [-1/20, -1/20,  0   ]])\n",
    "\n",
    "B = np.array([7/24, 5/23, 7/20])"
   ]
  },
  {
   "cell_type": "code",
   "execution_count": 25,
   "metadata": {},
   "outputs": [
    {
     "data": {
      "text/plain": [
       "0.56"
      ]
     },
     "execution_count": 25,
     "metadata": {},
     "output_type": "execute_result"
    }
   ],
   "source": [
    "round(np.linalg.norm(P, 1), 2)"
   ]
  },
  {
   "cell_type": "markdown",
   "metadata": {},
   "source": [
    "$\\Vert P \\Vert_1 < 1$ значит система сходится к решению"
   ]
  },
  {
   "cell_type": "markdown",
   "metadata": {},
   "source": [
    "По теореме сходимости итеративных методов для достижения точности $\\epsilon$ требуется $N$ итераций.\n",
    "\n",
    "$$ N = \\log_{\\Vert P \\Vert}\\left( \\frac{\\epsilon(1 - \\Vert P \\Vert)}{\\vert B \\vert} \\right) - 1$$\n",
    "\n",
    "Тогда для точности $0.01$:"
   ]
  },
  {
   "cell_type": "code",
   "execution_count": 26,
   "metadata": {},
   "outputs": [
    {
     "data": {
      "text/plain": [
       "7.97"
      ]
     },
     "execution_count": 26,
     "metadata": {},
     "output_type": "execute_result"
    }
   ],
   "source": [
    "import math\n",
    "normP = np.linalg.norm(P, 1)\n",
    "normB = np.linalg.norm(B, 1)\n",
    "round(math.log((0.01 * (1 - normP))/ normB, normP) - 1, 2)"
   ]
  },
  {
   "cell_type": "markdown",
   "metadata": {},
   "source": [
    "Потребутся 8 итераций"
   ]
  },
  {
   "cell_type": "code",
   "execution_count": 27,
   "metadata": {},
   "outputs": [
    {
     "name": "stdout",
     "output_type": "stream",
     "text": [
      "1 [0.2917 0.2174 0.35  ]\n",
      "2 [0.1463 0.0196 0.3245]\n",
      "3 [0.2175 0.0663 0.3417]\n",
      "4 [0.1984 0.0418 0.3358]\n",
      "5 [0.2078 0.0488 0.338 ]\n",
      "6 [0.205  0.0456 0.3372]\n",
      "7 [0.2062 0.0466 0.3375]\n",
      "8 [0.2058 0.0462 0.3374]\n"
     ]
    }
   ],
   "source": [
    "X = np.array([0, 0, 0])\n",
    "for i in range(8):\n",
    "    X = P@X + B\n",
    "    print(i+1, X.round(4))"
   ]
  },
  {
   "cell_type": "markdown",
   "metadata": {},
   "source": [
    "#### 6. Найдите самую влиятельную вершину в графе с помощью алгоритма PageRank, где матрица смежноси графа "
   ]
  },
  {
   "cell_type": "code",
   "execution_count": 28,
   "metadata": {},
   "outputs": [],
   "source": [
    "A = np.array([[1, 1, 1, 1], \n",
    "              [1, 1, 1, 1], \n",
    "              [1, 0, 0, 1], \n",
    "              [0, 1, 0, 1]])"
   ]
  },
  {
   "cell_type": "markdown",
   "metadata": {},
   "source": [
    "Составим матрицу перехода $P$"
   ]
  },
  {
   "cell_type": "code",
   "execution_count": 29,
   "metadata": {},
   "outputs": [
    {
     "name": "stdout",
     "output_type": "stream",
     "text": [
      "[[0.25 0.25 0.5  0.  ]\n",
      " [0.25 0.25 0.   0.5 ]\n",
      " [0.25 0.25 0.   0.  ]\n",
      " [0.25 0.25 0.5  0.5 ]]\n"
     ]
    }
   ],
   "source": [
    "P = np.array([A[0]/4, A[1]/4, A[2]/2, A[3]/2]).T\n",
    "print(P)"
   ]
  },
  {
   "cell_type": "markdown",
   "metadata": {},
   "source": [
    "Решение будем искать в виде $X = MX$, где $M = (1 - \\beta)P + \\beta Q$"
   ]
  },
  {
   "cell_type": "markdown",
   "metadata": {},
   "source": [
    "Пусть $\\beta = 0.15$"
   ]
  },
  {
   "cell_type": "code",
   "execution_count": 30,
   "metadata": {},
   "outputs": [],
   "source": [
    "beta = 0.15"
   ]
  },
  {
   "cell_type": "markdown",
   "metadata": {},
   "source": [
    "По определению матрица $Q$ имеет вид"
   ]
  },
  {
   "cell_type": "code",
   "execution_count": 31,
   "metadata": {},
   "outputs": [
    {
     "name": "stdout",
     "output_type": "stream",
     "text": [
      "[[0.25 0.25 0.25 0.25]\n",
      " [0.25 0.25 0.25 0.25]\n",
      " [0.25 0.25 0.25 0.25]\n",
      " [0.25 0.25 0.25 0.25]]\n"
     ]
    }
   ],
   "source": [
    "Q = np.ones([4, 4])/4\n",
    "print(Q)"
   ]
  },
  {
   "cell_type": "markdown",
   "metadata": {},
   "source": [
    "Тогда решение"
   ]
  },
  {
   "cell_type": "code",
   "execution_count": 32,
   "metadata": {},
   "outputs": [
    {
     "name": "stdout",
     "output_type": "stream",
     "text": [
      "[0.25 0.25 0.14 0.36]\n",
      "[0.2  0.3  0.14 0.36]\n",
      "[0.2  0.3  0.14 0.36]\n",
      "[0.2  0.3  0.14 0.36]\n",
      "[0.2  0.3  0.14 0.36]\n",
      "[0.2  0.3  0.14 0.36]\n",
      "[0.2  0.3  0.14 0.36]\n",
      "[0.2  0.3  0.14 0.36]\n"
     ]
    }
   ],
   "source": [
    "M = (1 - beta)*P + beta*Q\n",
    "X = np.ones(4)/4\n",
    "for i in range(8):\n",
    "    X = M@X\n",
    "    print(X.round(2))"
   ]
  },
  {
   "cell_type": "markdown",
   "metadata": {},
   "source": [
    "Таким образом, 4 вершина самая влиятельная"
   ]
  }
 ],
 "metadata": {
  "kernelspec": {
   "display_name": "Python 3",
   "language": "python",
   "name": "python3"
  },
  "language_info": {
   "codemirror_mode": {
    "name": "ipython",
    "version": 3
   },
   "file_extension": ".py",
   "mimetype": "text/x-python",
   "name": "python",
   "nbconvert_exporter": "python",
   "pygments_lexer": "ipython3",
   "version": "3.7.4"
  }
 },
 "nbformat": 4,
 "nbformat_minor": 2
}
