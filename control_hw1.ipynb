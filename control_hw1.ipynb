{
 "cells": [
  {
   "cell_type": "markdown",
   "metadata": {},
   "source": [
    "# Прикладная линейная алгебра"
   ]
  },
  {
   "cell_type": "markdown",
   "metadata": {},
   "source": [
    "## Домашняя контрольная работа 1"
   ]
  },
  {
   "cell_type": "markdown",
   "metadata": {},
   "source": [
    "## Поздняков Виталий, Вариант 18"
   ]
  },
  {
   "cell_type": "markdown",
   "metadata": {},
   "source": [
    "___"
   ]
  },
  {
   "cell_type": "markdown",
   "metadata": {},
   "source": [
    "#### 1. Найдите сингулярное разложение для"
   ]
  },
  {
   "cell_type": "markdown",
   "metadata": {},
   "source": [
    "$$A =\n",
    "\\begin{pmatrix}\n",
    "9 & 5 & 0 \\\\\n",
    "−3 & −7 & −6 \\\\\n",
    "3 & 7 & 6 \\\\\n",
    "−3 & −7 & −6 \\\\\n",
    "\\end{pmatrix}$$"
   ]
  },
  {
   "cell_type": "markdown",
   "metadata": {},
   "source": [
    "#### Решение"
   ]
  },
  {
   "cell_type": "markdown",
   "metadata": {},
   "source": [
    "$$A_{4\\times 3} = Q_{4 \\times 4}\\Sigma_{4 \\times 3} R_{3 \\times 3}^*$$"
   ]
  },
  {
   "cell_type": "code",
   "execution_count": 1,
   "metadata": {},
   "outputs": [],
   "source": [
    "import numpy as np"
   ]
  },
  {
   "cell_type": "code",
   "execution_count": 2,
   "metadata": {},
   "outputs": [
    {
     "data": {
      "text/plain": [
       "array([[108, 108,  54],\n",
       "       [108, 172, 126],\n",
       "       [ 54, 126, 108]])"
      ]
     },
     "execution_count": 2,
     "metadata": {},
     "output_type": "execute_result"
    }
   ],
   "source": [
    "A = np.array([[ 9,  5,  0],\n",
    "              [-3, -7, -6],\n",
    "              [ 3,  7,  6],\n",
    "              [-3, -7, -6]])\n",
    "A.T @ A"
   ]
  },
  {
   "cell_type": "markdown",
   "metadata": {},
   "source": [
    "$$A^*A =\n",
    "\\begin{pmatrix}\n",
    "108 & 108 & 54 \\\\\n",
    "108 & 172 & 126 \\\\\n",
    "54 & 126 & 108\n",
    "\\end{pmatrix}\n",
    "$$"
   ]
  },
  {
   "cell_type": "markdown",
   "metadata": {},
   "source": [
    "$$|A^*A - \\lambda E| = \n",
    "\\begin{vmatrix}\n",
    "108 - \\lambda & 108 & 54 \\\\\n",
    "108 & 172 - \\lambda & 126 \\\\\n",
    "54 & 126 & 108 - \\lambda\n",
    "\\end{vmatrix} =\n",
    "-\\lambda^3 + 388 \\lambda^2 - 18360 \\lambda = 0\n",
    "$$"
   ]
  },
  {
   "cell_type": "markdown",
   "metadata": {},
   "source": [
    "$$\\begin{matrix}\n",
    "\\lambda_1 = 0 & \\sigma_3 = \\sqrt 0 = 0 \\\\\n",
    "\\lambda_2 = 194 - 2\\sqrt{4819} = 55.16 & \\sigma_2 = \\sqrt{194 - 2\\sqrt{4819}} = 7.43 \\\\\n",
    "\\lambda_3 = 194 + 2\\sqrt{4819} = 332.84 & \\sigma_1 = \\sqrt{194 + 2\\sqrt{4819}} = 18.24 \\\\\n",
    "\\end{matrix}$$"
   ]
  },
  {
   "cell_type": "markdown",
   "metadata": {},
   "source": [
    "$$\\sum = \n",
    "\\begin{pmatrix}\n",
    "\\sigma_1 & 0 & 0 \\\\\n",
    "0 & \\sigma_2 & 0 \\\\\n",
    "0 & 0 & \\sigma_3 \\\\\n",
    "0 & 0 & 0\n",
    "\\end{pmatrix} =\n",
    "\\begin{pmatrix}\n",
    "18.24 & 0 & 0 \\\\\n",
    "0 & 7.43 & 0 \\\\\n",
    "0 & 0 & 0 \\\\\n",
    "0 & 0 & 0\n",
    "\\end{pmatrix}$$\n"
   ]
  },
  {
   "cell_type": "code",
   "execution_count": 3,
   "metadata": {},
   "outputs": [],
   "source": [
    "lambda2 = 194 - 2 * (4819) ** (1/2)\n",
    "sigma2 = lambda2 ** (1/2)\n",
    "lambda3 = 194 + 2 * (4819) ** (1/2)\n",
    "sigma1 = lambda3 ** (1/2)\n",
    "Sigma = np.zeros([4, 3])\n",
    "Sigma[0, 0] = sigma1\n",
    "Sigma[1, 1] = sigma2"
   ]
  },
  {
   "cell_type": "markdown",
   "metadata": {},
   "source": [
    "Найдем собственный вектор $x_1$ для $\\sigma_1$ ($\\lambda_3 = 332.84$)"
   ]
  },
  {
   "cell_type": "code",
   "execution_count": 4,
   "metadata": {},
   "outputs": [],
   "source": [
    "# приведение матрицы к ступенчатому виду методом прямого хода Гаусса\n",
    "def echelon(matrix):\n",
    "    matrix = matrix.astype(float)\n",
    "    shape = matrix.shape[0]\n",
    "    for i in range(shape - 1):\n",
    "        for j in range(i + 1, shape):\n",
    "            matrix[j] = (\n",
    "                matrix[j] - matrix[i] * matrix[j, i] / matrix[i, i])\n",
    "    for i in range(shape - 1):\n",
    "        if matrix[i, i] != 0:\n",
    "            matrix[i] = matrix[i] * (1 / matrix[i, i])\n",
    "    return matrix\n",
    "\n",
    "# нормирование вектора\n",
    "def normed(vector):\n",
    "    norm = 0\n",
    "    for x in vector:\n",
    "        norm += x * x\n",
    "    return vector / norm ** (1/2)"
   ]
  },
  {
   "cell_type": "code",
   "execution_count": 5,
   "metadata": {
    "scrolled": true
   },
   "outputs": [
    {
     "data": {
      "text/plain": [
       "array([[-224.84,  108.  ,   54.  ],\n",
       "       [ 108.  , -160.84,  126.  ],\n",
       "       [  54.  ,  126.  , -224.84]])"
      ]
     },
     "execution_count": 5,
     "metadata": {},
     "output_type": "execute_result"
    }
   ],
   "source": [
    "(A.T @ A - np.eye(3) * lambda3).round(2)"
   ]
  },
  {
   "cell_type": "code",
   "execution_count": 6,
   "metadata": {
    "scrolled": true
   },
   "outputs": [
    {
     "data": {
      "text/plain": [
       "array([[ 1.  , -0.48, -0.24],\n",
       "       [-0.  ,  1.  , -1.39],\n",
       "       [ 0.  ,  0.  ,  0.  ]])"
      ]
     },
     "execution_count": 6,
     "metadata": {},
     "output_type": "execute_result"
    }
   ],
   "source": [
    "eq1 = echelon(A.T @ A - np.eye(3) * lambda3)\n",
    "eq1.round(2)"
   ]
  },
  {
   "cell_type": "markdown",
   "metadata": {},
   "source": [
    "$$\\begin{cases}\n",
    "\\nu_1 - 0.48 \\nu_2 - 0.24 \\nu_3 = 0 \\\\\n",
    "\\nu_2 - 1.39 \\nu_3 = 0 \\\\\n",
    "\\nu_3 = \\nu_3\n",
    "\\end{cases} \\Rightarrow\n",
    "\\begin{cases}\n",
    "\\nu_1 = 0.48 \\nu_2 + 0.24 \\nu_3 \\\\\n",
    "\\nu_2 = 1.39 \\nu_3 \\\\\n",
    "\\nu_3 = \\nu_3\n",
    "\\end{cases} \\Rightarrow\n",
    "\\begin{cases}\n",
    "\\nu_1 = 0.48 \\cdot 1.39 \\nu_3 + 0.24 \\nu_3 \\\\\n",
    "\\nu_2 = 1.39 \\nu_3 \\\\\n",
    "\\nu_3 = \\nu_3\n",
    "\\end{cases}$$\n",
    "\n",
    "$$\n",
    "x_1 = \\begin{pmatrix}\n",
    "0.91 \\\\\n",
    "1.39 \\\\\n",
    "1\n",
    "\\end{pmatrix}$$"
   ]
  },
  {
   "cell_type": "markdown",
   "metadata": {},
   "source": [
    "Нормируем вектор $x_1$"
   ]
  },
  {
   "cell_type": "code",
   "execution_count": 7,
   "metadata": {},
   "outputs": [
    {
     "data": {
      "text/plain": [
       "array([0.47, 0.72, 0.51])"
      ]
     },
     "execution_count": 7,
     "metadata": {},
     "output_type": "execute_result"
    }
   ],
   "source": [
    "x1 = np.array([-eq1[0, 1] * -eq1[1, 2] + -eq1[0, 2], -eq1[1, 2], 1])\n",
    "x1 = normed(x1)\n",
    "x1.round(2)"
   ]
  },
  {
   "cell_type": "markdown",
   "metadata": {},
   "source": [
    "$$ x_1  =\\begin{pmatrix}\n",
    "0.47 \\\\\n",
    "0.72 \\\\\n",
    "0.52\n",
    "\\end{pmatrix}$$"
   ]
  },
  {
   "cell_type": "markdown",
   "metadata": {},
   "source": [
    "Найдем собственный вектор $x_2$ для $\\sigma_2$ ($\\lambda_2 = 55.16$)"
   ]
  },
  {
   "cell_type": "code",
   "execution_count": 8,
   "metadata": {},
   "outputs": [
    {
     "data": {
      "text/plain": [
       "array([[ 52.84, 108.  ,  54.  ],\n",
       "       [108.  , 116.84, 126.  ],\n",
       "       [ 54.  , 126.  ,  52.84]])"
      ]
     },
     "execution_count": 8,
     "metadata": {},
     "output_type": "execute_result"
    }
   ],
   "source": [
    "(A.T @ A - np.eye(3) * lambda2).round(2)"
   ]
  },
  {
   "cell_type": "code",
   "execution_count": 9,
   "metadata": {},
   "outputs": [
    {
     "data": {
      "text/plain": [
       "array([[ 1.  ,  2.04,  1.02],\n",
       "       [-0.  ,  1.  , -0.15],\n",
       "       [ 0.  ,  0.  ,  0.  ]])"
      ]
     },
     "execution_count": 9,
     "metadata": {},
     "output_type": "execute_result"
    }
   ],
   "source": [
    "eq2 = echelon(A.T @ A - np.eye(3) * lambda2)\n",
    "eq2.round(2)"
   ]
  },
  {
   "cell_type": "markdown",
   "metadata": {},
   "source": [
    "$$\\begin{cases}\n",
    "\\nu_1 + 2.04 \\nu_2 + 1.02 \\nu_3 = 0 \\\\\n",
    "\\nu_2 - 0.15 \\nu_3 = 0 \\\\\n",
    "\\nu_3 = \\nu_3\n",
    "\\end{cases} \\Rightarrow\n",
    "\\begin{cases}\n",
    "\\nu_1 = - 2.04 \\nu_2 - 1.02 \\nu_3 \\\\\n",
    "\\nu_2 = 0.15 \\nu_3 \\\\\n",
    "\\nu_3 = \\nu_3\n",
    "\\end{cases} \\Rightarrow\n",
    "\\begin{cases}\n",
    "\\nu_1 = - 2.04 \\cdot 0.15 \\nu_3 - 1.02 \\nu_3 \\\\\n",
    "\\nu_2 = 0.15 \\nu_3 \\\\\n",
    "\\nu_3 = \\nu_3\n",
    "\\end{cases}$$\n",
    "\n",
    "$$\n",
    "x_2 = \\begin{pmatrix}\n",
    "-1.326 \\\\\n",
    "0.15 \\\\\n",
    "1\n",
    "\\end{pmatrix}$$"
   ]
  },
  {
   "cell_type": "markdown",
   "metadata": {},
   "source": [
    "Нормируем вектор $x_2$"
   ]
  },
  {
   "cell_type": "code",
   "execution_count": 10,
   "metadata": {},
   "outputs": [
    {
     "data": {
      "text/plain": [
       "array([-0.8 ,  0.09,  0.6 ])"
      ]
     },
     "execution_count": 10,
     "metadata": {},
     "output_type": "execute_result"
    }
   ],
   "source": [
    "x2 = np.array([-eq2[0, 1] * -eq2[1, 2] + -eq2[0, 2], -eq2[1, 2], 1])\n",
    "x2 = normed(np.array([-1.326, 0.15, 1]))\n",
    "x2.round(2)"
   ]
  },
  {
   "cell_type": "markdown",
   "metadata": {},
   "source": [
    "$$ x_2  =\\begin{pmatrix}\n",
    "-0.8 \\\\\n",
    "0.09 \\\\\n",
    "0.6\n",
    "\\end{pmatrix}$$"
   ]
  },
  {
   "cell_type": "markdown",
   "metadata": {},
   "source": [
    "Найдем собственный вектор $x_3$ для $\\sigma_3$ ($\\lambda_1 = 0$)"
   ]
  },
  {
   "cell_type": "code",
   "execution_count": 11,
   "metadata": {},
   "outputs": [
    {
     "data": {
      "text/plain": [
       "array([[108, 108,  54],\n",
       "       [108, 172, 126],\n",
       "       [ 54, 126, 108]])"
      ]
     },
     "execution_count": 11,
     "metadata": {},
     "output_type": "execute_result"
    }
   ],
   "source": [
    "A.T @ A"
   ]
  },
  {
   "cell_type": "code",
   "execution_count": 12,
   "metadata": {},
   "outputs": [
    {
     "data": {
      "text/plain": [
       "array([[1.   , 1.   , 0.5  ],\n",
       "       [0.   , 1.   , 1.125],\n",
       "       [0.   , 0.   , 0.   ]])"
      ]
     },
     "execution_count": 12,
     "metadata": {},
     "output_type": "execute_result"
    }
   ],
   "source": [
    "eq3 = echelon(A.T @ A)\n",
    "eq3"
   ]
  },
  {
   "cell_type": "markdown",
   "metadata": {},
   "source": [
    "$$\\begin{cases}\n",
    "\\nu_1 + \\nu_2 + 0.5 \\nu_3 = 0 \\\\\n",
    "\\nu_2 + 1.125 \\nu_3 = 0 \\\\\n",
    "\\nu_3 = \\nu_3\n",
    "\\end{cases} \\Rightarrow\n",
    "\\begin{cases}\n",
    "\\nu_1 = - \\nu_2 - 0.5 \\nu_3 \\\\\n",
    "\\nu_2 = -1.125 \\nu_3 \\\\\n",
    "\\nu_3 = \\nu_3\n",
    "\\end{cases} \\Rightarrow\n",
    "\\begin{cases}\n",
    "\\nu_1 = 1.125 \\nu_3 - 0.5 \\nu_3 \\\\\n",
    "\\nu_2 = -1.125 \\nu_3 \\\\\n",
    "\\nu_3 = \\nu_3\n",
    "\\end{cases}$$\n",
    "\n",
    "$$\n",
    "x_3 = \\begin{pmatrix}\n",
    "0.625 \\\\\n",
    "-1.125 \\\\\n",
    "1\n",
    "\\end{pmatrix}$$"
   ]
  },
  {
   "cell_type": "markdown",
   "metadata": {},
   "source": [
    "Нормируем вектор $x_3$"
   ]
  },
  {
   "cell_type": "code",
   "execution_count": 13,
   "metadata": {},
   "outputs": [
    {
     "data": {
      "text/plain": [
       "array([ 0.38, -0.69,  0.61])"
      ]
     },
     "execution_count": 13,
     "metadata": {},
     "output_type": "execute_result"
    }
   ],
   "source": [
    "x3 = np.array([-eq3[0, 1] * -eq3[1, 2] + -eq3[0, 2], -eq3[1, 2], 1])\n",
    "x3 = normed(x3)\n",
    "x3.round(2)"
   ]
  },
  {
   "cell_type": "markdown",
   "metadata": {},
   "source": [
    "$$ x_3  =\\begin{pmatrix}\n",
    "0.38 \\\\\n",
    "-0.69 \\\\\n",
    "0.61\n",
    "\\end{pmatrix}$$"
   ]
  },
  {
   "cell_type": "markdown",
   "metadata": {},
   "source": [
    "$$R = \n",
    "\\begin{pmatrix}\n",
    "0.47 & -0.8 & 0.38 \\\\ \n",
    "0.72 & 0.09 & -0.69 \\\\ \n",
    "0.52 & 0.6 & 0.61\n",
    "\\end{pmatrix}$$"
   ]
  },
  {
   "cell_type": "markdown",
   "metadata": {},
   "source": [
    "Найдем матрицу $Q$"
   ]
  },
  {
   "cell_type": "code",
   "execution_count": 14,
   "metadata": {},
   "outputs": [
    {
     "data": {
      "text/plain": [
       "array([ 0.43, -0.52,  0.52, -0.52])"
      ]
     },
     "execution_count": 14,
     "metadata": {},
     "output_type": "execute_result"
    }
   ],
   "source": [
    "q1 = A @ x1 / sigma1\n",
    "q1.round(2)"
   ]
  },
  {
   "cell_type": "markdown",
   "metadata": {},
   "source": [
    "$$\n",
    "q_1 = \\frac{A  x_1 }{\\sigma_1} =\n",
    "\\begin{pmatrix}\n",
    "0.43 \\\\\n",
    "-0.52 \\\\\n",
    "0.52 \\\\\n",
    "-0.52\n",
    "\\end{pmatrix}$$"
   ]
  },
  {
   "cell_type": "code",
   "execution_count": 15,
   "metadata": {},
   "outputs": [
    {
     "data": {
      "text/plain": [
       "array([-0.9 , -0.25,  0.25, -0.25])"
      ]
     },
     "execution_count": 15,
     "metadata": {},
     "output_type": "execute_result"
    }
   ],
   "source": [
    "q2 = A @ x2 / sigma2\n",
    "q2.round(2)"
   ]
  },
  {
   "cell_type": "markdown",
   "metadata": {},
   "source": [
    "$$\n",
    "q_2 = \\frac{A  x_2 }{\\sigma_1} =\n",
    "\\begin{pmatrix}\n",
    "-0.9 \\\\\n",
    "-0.25 \\\\\n",
    "0.25 \\\\\n",
    "-0.25\n",
    "\\end{pmatrix}$$"
   ]
  },
  {
   "cell_type": "markdown",
   "metadata": {},
   "source": [
    "Для нахождения $q_3$ и $q_4$ применим алгоритм Грама-Шмидта. Добавим линейно независимые векторы, чтобы получить произвольный базис. Пусть $q'_3 = (0, 0, 0, 1)$ и $q'_4 = (0, 0, 1, 0)$"
   ]
  },
  {
   "cell_type": "code",
   "execution_count": 16,
   "metadata": {},
   "outputs": [
    {
     "data": {
      "text/plain": [
       "array([[ 0.43, -0.9 , -0.  ,  0.  ],\n",
       "       [-0.52, -0.25, -0.41,  0.71],\n",
       "       [ 0.52,  0.25,  0.41,  0.71],\n",
       "       [-0.52, -0.25,  0.82,  0.  ]])"
      ]
     },
     "execution_count": 16,
     "metadata": {},
     "output_type": "execute_result"
    }
   ],
   "source": [
    "q_3 = np.array([0, 0, 0, 1])\n",
    "q_4 = np.array([0, 0, 1, 0])\n",
    "q3 = normed(q_3 - q1 @ q_3 * q1 - q2 @ q_3 * q2)\n",
    "q4 = normed(q_4 - q1 @ q_4 * q1 - q2 @ q_4 * q2 - q3 @ q_4 * q3)\n",
    "Q = np.array([q1, q2, q3, q4]).T\n",
    "Q.round(2)"
   ]
  },
  {
   "cell_type": "markdown",
   "metadata": {},
   "source": [
    "Ответ: $$Q\\Sigma R^* = \n",
    "\\begin{pmatrix}\n",
    "0.43 & -0.9 & 0 & 0 \\\\\n",
    "-0.52 & -0.25 & -0.41 & 0.71 \\\\\n",
    "0.52 & 0.25 & 0.41 & 0.71 \\\\\n",
    "-0.52 & -0.25 & 0.82 & 0 \\\\\n",
    "\\end{pmatrix}\n",
    "\\begin{pmatrix}\n",
    "18.24 & 0 & 0 \\\\\n",
    "0 & 7.43 & 0 \\\\\n",
    "0 & 0 & 0 \\\\\n",
    "0 & 0 & 0\n",
    "\\end{pmatrix}\n",
    "\\begin{pmatrix}\n",
    "0.47 & 0.72 & 0.52 \\\\\n",
    "-0.8 & 0.09 & 0.6 \\\\\n",
    "0.38 & -0.69 & 0.61\n",
    "\\end{pmatrix}$$"
   ]
  },
  {
   "cell_type": "markdown",
   "metadata": {},
   "source": [
    "Проверим"
   ]
  },
  {
   "cell_type": "code",
   "execution_count": 17,
   "metadata": {},
   "outputs": [
    {
     "data": {
      "text/plain": [
       "array([[ 8.99032942,  5.00105181, -0.00282735],\n",
       "       [-2.9954151 , -7.00053018, -6.00622383],\n",
       "       [ 2.9954151 ,  7.00053018,  6.00622383],\n",
       "       [-2.9954151 , -7.00053018, -6.00622383]])"
      ]
     },
     "execution_count": 17,
     "metadata": {},
     "output_type": "execute_result"
    }
   ],
   "source": [
    "np.set_printoptions(suppress=True)\n",
    "Q @ Sigma @ np.array([x1, x2, x3])"
   ]
  },
  {
   "cell_type": "markdown",
   "metadata": {},
   "source": [
    "Ответ верный с точностью до 1 знака после запятой"
   ]
  },
  {
   "cell_type": "markdown",
   "metadata": {},
   "source": [
    "#### 2. Найдите какое-нибудь разложение полного ранга и псевдообратную матрицу для"
   ]
  },
  {
   "cell_type": "markdown",
   "metadata": {},
   "source": [
    "$$A = \\begin{pmatrix}\n",
    "1 & 2 & 2 \\\\\n",
    "3 & 8 & 5 \\\\\n",
    "-1 & -4 & -1 \\\\\n",
    "5 & 14 & 8\n",
    "\\end{pmatrix}$$"
   ]
  },
  {
   "cell_type": "markdown",
   "metadata": {},
   "source": [
    "#### Решение"
   ]
  },
  {
   "cell_type": "markdown",
   "metadata": {},
   "source": [
    "Найдем $B$ и $C$ такие, чтобы $A = BC$"
   ]
  },
  {
   "cell_type": "markdown",
   "metadata": {},
   "source": [
    "Приведем матрицу $A$ к каноническому виду методом Гаусса"
   ]
  },
  {
   "cell_type": "markdown",
   "metadata": {},
   "source": [
    "$$\\begin{pmatrix}\n",
    "1 & 2 & 2 \\\\\n",
    "3 & 8 & 5 \\\\\n",
    "-1 & -4 & -1 \\\\\n",
    "5 & 14 & 8\n",
    "\\end{pmatrix} =\n",
    "\\begin{pmatrix}\n",
    "1 & 0 & 3 \\\\\n",
    "0 & 1 & -0.5\n",
    "\\end{pmatrix}\n",
    "= C$$"
   ]
  },
  {
   "cell_type": "markdown",
   "metadata": {},
   "source": [
    "$rkA=2$, значит первые 2 столбца из матрицы $A$ — это матрица $B$"
   ]
  },
  {
   "cell_type": "markdown",
   "metadata": {},
   "source": [
    "$$B = \\begin{pmatrix}\n",
    "1 & 2 \\\\\n",
    "3 & 8 \\\\\n",
    "-1 & -4 \\\\\n",
    "5 & 14\n",
    "\\end{pmatrix}$$"
   ]
  },
  {
   "cell_type": "markdown",
   "metadata": {},
   "source": [
    "Проверим"
   ]
  },
  {
   "cell_type": "code",
   "execution_count": 18,
   "metadata": {},
   "outputs": [
    {
     "data": {
      "text/plain": [
       "array([[ 1.,  2.,  2.],\n",
       "       [ 3.,  8.,  5.],\n",
       "       [-1., -4., -1.],\n",
       "       [ 5., 14.,  8.]])"
      ]
     },
     "execution_count": 18,
     "metadata": {},
     "output_type": "execute_result"
    }
   ],
   "source": [
    "B = np.array([[1, 2], \n",
    "              [3, 8], \n",
    "              [-1, -4], \n",
    "              [5, 14]])\n",
    "C = np.array([[1, 0, 3], \n",
    "              [0, 1, -0.5]])\n",
    "B @ C"
   ]
  },
  {
   "cell_type": "markdown",
   "metadata": {},
   "source": [
    "Ответ верный"
   ]
  },
  {
   "cell_type": "markdown",
   "metadata": {},
   "source": [
    "Найдем псевдообратную матрицу $A^+=C^+B^+$"
   ]
  },
  {
   "cell_type": "markdown",
   "metadata": {},
   "source": [
    "Найдем $B^+$. $rkB = 2$ полный столбцовый ранг, значит"
   ]
  },
  {
   "cell_type": "code",
   "execution_count": 19,
   "metadata": {},
   "outputs": [
    {
     "data": {
      "text/plain": [
       "array([[ 1.  ,  0.5 ,  1.5 , -0.  ],\n",
       "       [-0.35, -0.15, -0.55,  0.05]])"
      ]
     },
     "execution_count": 19,
     "metadata": {},
     "output_type": "execute_result"
    }
   ],
   "source": [
    "B_plus = np.linalg.inv(B.T @ B) @ B.T\n",
    "B_plus"
   ]
  },
  {
   "cell_type": "markdown",
   "metadata": {},
   "source": [
    "$$B^+ = (B^*B)^{-1}B^* = \n",
    "\\begin{pmatrix}\n",
    "1 & 0.5 & 1.5 & 0 \\\\\n",
    "-0.35 & -0.15 & -0.55 & 0.05\n",
    "\\end{pmatrix}\n",
    "$$"
   ]
  },
  {
   "cell_type": "markdown",
   "metadata": {},
   "source": [
    "Найдем $C^+$. $rkC = 2$ полный строчный ранг, значит"
   ]
  },
  {
   "cell_type": "code",
   "execution_count": 20,
   "metadata": {},
   "outputs": [
    {
     "data": {
      "text/plain": [
       "array([[ 0.12,  0.15],\n",
       "       [ 0.15,  0.98],\n",
       "       [ 0.29, -0.05]])"
      ]
     },
     "execution_count": 20,
     "metadata": {},
     "output_type": "execute_result"
    }
   ],
   "source": [
    "C_plus = C.T @ np.linalg.inv(C @ C.T)\n",
    "C_plus.round(2)"
   ]
  },
  {
   "cell_type": "markdown",
   "metadata": {},
   "source": [
    "$$C^+ = C^*(CC^*)^{-1} = \n",
    "\\begin{pmatrix}\n",
    "0.12 & 0.15 \\\\\n",
    "0.15 & 0.98 \\\\\n",
    "0.29 & -0.05\n",
    "\\end{pmatrix}\n",
    "$$"
   ]
  },
  {
   "cell_type": "code",
   "execution_count": 21,
   "metadata": {},
   "outputs": [
    {
     "data": {
      "text/plain": [
       "array([[ 0.07,  0.04,  0.1 ,  0.01],\n",
       "       [-0.2 , -0.07, -0.32,  0.05],\n",
       "       [ 0.31,  0.15,  0.47, -0.  ]])"
      ]
     },
     "execution_count": 21,
     "metadata": {},
     "output_type": "execute_result"
    }
   ],
   "source": [
    "A_plus = C_plus @ B_plus\n",
    "A_plus.round(2)"
   ]
  },
  {
   "cell_type": "markdown",
   "metadata": {},
   "source": [
    "Ответ: $$A^+=C^+B^+=\n",
    "\\begin{pmatrix}\n",
    " 0.07 &  0.04 &  0.1  &  0.01 \\\\\n",
    " -0.2 & -0.07 & -0.32 &  0.05 \\\\\n",
    " 0.31 &  0.15 &  0.47 &  0  \\\\\n",
    "\\end{pmatrix}\n",
    "$$"
   ]
  },
  {
   "cell_type": "markdown",
   "metadata": {},
   "source": [
    "Проверим"
   ]
  },
  {
   "cell_type": "code",
   "execution_count": 22,
   "metadata": {},
   "outputs": [
    {
     "data": {
      "text/plain": [
       "array([[ 1.,  2.,  2.],\n",
       "       [ 3.,  8.,  5.],\n",
       "       [-1., -4., -1.],\n",
       "       [ 5., 14.,  8.]])"
      ]
     },
     "execution_count": 22,
     "metadata": {},
     "output_type": "execute_result"
    }
   ],
   "source": [
    "A = np.array([[1, 2, 2], \n",
    "              [3, 8, 5], \n",
    "              [-1, -4, -1], \n",
    "              [5, 14, 8]])\n",
    "A @ A_plus @ A"
   ]
  },
  {
   "cell_type": "markdown",
   "metadata": {},
   "source": [
    "Ответ верный"
   ]
  },
  {
   "cell_type": "markdown",
   "metadata": {},
   "source": [
    "#### 3. Среди всех приближений решения следующей системы по методу наименьших квадратов найдите вектор наименьшей длины."
   ]
  },
  {
   "cell_type": "markdown",
   "metadata": {},
   "source": [
    "$$\\begin{cases}\n",
    "4 · x + 14 · y + 2 · z − 6 · t = 4 \\\\\n",
    "3 · x + 8 · y + 5 · z + 1 · t = 1 \\\\\n",
    "2 · x + 1 · y + 5 · z + 5 · t = 3 \\\\\n",
    "2 · x + 2 · y + 8 · z + 8 · t = 9\n",
    "\\end{cases}$$"
   ]
  },
  {
   "cell_type": "markdown",
   "metadata": {},
   "source": [
    "#### Решение"
   ]
  },
  {
   "cell_type": "markdown",
   "metadata": {},
   "source": [
    "В матричном виде: $AX=B$, где"
   ]
  },
  {
   "cell_type": "markdown",
   "metadata": {},
   "source": [
    "$$A = \n",
    "\\begin{pmatrix}\n",
    "4 & 14 & 2 & -6 \\\\\n",
    "3 & 8 & 5 & 1 \\\\\n",
    "2 & 1 & 5 & 5 \\\\\n",
    "2 & 2 & 8 & 8 \\\\\n",
    "\\end{pmatrix}; \n",
    "X = \n",
    "\\begin{pmatrix}\n",
    "x \\\\\n",
    "y \\\\\n",
    "z \\\\\n",
    "t\n",
    "\\end{pmatrix};\n",
    "B = \n",
    "\\begin{pmatrix}\n",
    "4 \\\\\n",
    "1 \\\\\n",
    "3 \\\\\n",
    "9\n",
    "\\end{pmatrix}$$"
   ]
  },
  {
   "cell_type": "markdown",
   "metadata": {},
   "source": [
    "Решение будем искать в виде $\\tilde{X}=A^{+}B$, где $A^+ = (A^*A)^{-1}A^*$"
   ]
  },
  {
   "cell_type": "code",
   "execution_count": 23,
   "metadata": {},
   "outputs": [
    {
     "data": {
      "text/plain": [
       "array([[ 0.25, -0.06,  1.4 , -0.38],\n",
       "       [-0.01,  0.03, -0.34,  0.09],\n",
       "       [-0.06,  0.06, -0.28,  0.19],\n",
       "       [-0.02,  0.  ,  0.03,  0.03]])"
      ]
     },
     "execution_count": 23,
     "metadata": {},
     "output_type": "execute_result"
    }
   ],
   "source": [
    "A = np.array([[4, 14, 2, -6], \n",
    "              [3, 8, 5, 1], \n",
    "              [2, 1, 5, 5],\n",
    "              [2, 2, 8, 8]])\n",
    "A_plus = np.linalg.inv(A.T @ A) @ A.T\n",
    "A_plus.round(2)"
   ]
  },
  {
   "cell_type": "code",
   "execution_count": 24,
   "metadata": {},
   "outputs": [
    {
     "data": {
      "text/plain": [
       "array([ 1.78, -0.2 ,  0.66,  0.28])"
      ]
     },
     "execution_count": 24,
     "metadata": {},
     "output_type": "execute_result"
    }
   ],
   "source": [
    "B = np.array([4, 1, 3, 9])\n",
    "(A_plus @ B).round(2)"
   ]
  },
  {
   "cell_type": "markdown",
   "metadata": {},
   "source": [
    "Ответ: $$\\begin{cases}\n",
    "x = 1.78 \\\\\n",
    "y = -0.2 \\\\\n",
    "z = 0.66 \\\\\n",
    "t = 0.28\n",
    "\\end{cases}$$"
   ]
  },
  {
   "cell_type": "markdown",
   "metadata": {},
   "source": [
    "#### 4. Для многочлена $−2x^3 + 3x^2 − 5x − 5$ найдите наилучшее равномерное приближение многочленом второй степени на отрезке $[ -2 , 4 ]$."
   ]
  },
  {
   "cell_type": "markdown",
   "metadata": {},
   "source": [
    "#### Решение"
   ]
  },
  {
   "cell_type": "markdown",
   "metadata": {},
   "source": [
    "По теореме Чебышева"
   ]
  },
  {
   "cell_type": "markdown",
   "metadata": {},
   "source": [
    "$$ \\Vert f(x) - P_{n-1}(x) \\Vert_\\infty \\rightarrow \\min_{x \\in [a, b]} $$ \n",
    "при \n",
    "$$f(x) - P_{n-1}(x) = \\bar T_n(x) \\Rightarrow P_{n-1}(x) = f(x) - \\bar T_n(x)$$ \n",
    "где\n",
    "$$\\bar T_n(x) = \\frac{\\alpha(b-a)^n}{2^{2n-1}}T_n\\left(\\frac{2x-(b+a)}{b-a}\\right)$$\n",
    "и $\\alpha$ — старший коэффициент в многочлене $f(x)$"
   ]
  },
  {
   "cell_type": "markdown",
   "metadata": {},
   "source": [
    "Для нашей задачи имеем"
   ]
  },
  {
   "cell_type": "markdown",
   "metadata": {},
   "source": [
    "$$f(x) = −2x^3 + 3x^2 − 5x − 5$$\n",
    "$$n = 3$$\n",
    "$$a = -2, b = 4$$\n",
    "$$\\alpha = -2$$"
   ]
  },
  {
   "cell_type": "markdown",
   "metadata": {},
   "source": [
    "Тогда"
   ]
  },
  {
   "cell_type": "markdown",
   "metadata": {},
   "source": [
    "$$\\bar T_3(x) = -2\\frac{(4+2)^3}{2^{2\\cdot3-1}}T_3\\left(\\frac{2x-(4-2)}{4+2}\\right) = -2\\frac{6^3}{2^{5}}T_3\\left(\\frac{2x-2}{6}\\right)$$"
   ]
  },
  {
   "cell_type": "markdown",
   "metadata": {},
   "source": [
    "Многочлен Чебышева 3 степени:"
   ]
  },
  {
   "cell_type": "markdown",
   "metadata": {},
   "source": [
    "$$T_3(x)=4x^3-3x \\Rightarrow T_3\\left(\\frac{2x-2}{6}\\right)=4\\left(\\frac{2x-2}{6}\\right)^3-3\\left(\\frac{2x-2}{6}\\right)$$\n",
    "$$T_3\\left(\\frac{2x-2}{6}\\right)=4\\left(\\frac{8x^3-24x^2+24x-8}{6^3}\\right)-3\\left(\\frac{2x-2}{6}\\right)$$\n",
    "$$T_3\\left(\\frac{2x-2}{6}\\right)=\\frac{8x^3-24x^2+24x-8}{54}-\\frac{2x-2}{2}$$\n",
    "$$T_3\\left(\\frac{2x-2}{6}\\right)=\\frac{8x^3-24x^2+24x-8-54x+54}{54}$$\n",
    "$$T_3\\left(\\frac{2x-2}{6}\\right)=\\frac{8x^3-24x^2-30x+46}{54}$$"
   ]
  },
  {
   "cell_type": "markdown",
   "metadata": {},
   "source": [
    "$$\\bar T_3(x) = -2 \\frac{6^3}{2^5}\\cdot\\frac{8x^3-24x^2-30x+46}{54} = -2 \\frac{8x^3-24x^2-30x+46}{8} $$\n",
    "$$\\bar T_3(x) = -2\\left(x^3 - 3x^2 - \\frac{15}{4}x+\\frac{23}{4}\\right) = -2x^3 + 6x^2 + \\frac{15}{2}x - \\frac{23}{2}$$\n",
    "$$P_2(x) = −2x^3 + 3x^2 − 5x − 5 + 2x^3 - 6x^2 - \\frac{15}{2}x + \\frac{23}{2}$$"
   ]
  },
  {
   "cell_type": "markdown",
   "metadata": {},
   "source": [
    "Ответ:\n",
    "$$P_2(x) = - 3x^2 - \\frac{25}{2}x + \\frac{13}{2}$$"
   ]
  },
  {
   "cell_type": "markdown",
   "metadata": {},
   "source": [
    "<img src='2019-11-04_23-38-20.png' align='center' width=500>"
   ]
  },
  {
   "cell_type": "markdown",
   "metadata": {},
   "source": [
    "#### 5. При каком $q$ уравнение $−2qxz+x^2 +xy(1−2q)+y^2(4q+1)−yz+ z^2 (4q + 1) = 1$ задает единичную окружность относительно какой-то нормы? Найдите норму вектора $(1, 1, 1)$ в зависимости от $q$."
   ]
  },
  {
   "cell_type": "markdown",
   "metadata": {},
   "source": [
    "#### Решение"
   ]
  },
  {
   "cell_type": "markdown",
   "metadata": {},
   "source": [
    "Построим матрицу квадратичной формы"
   ]
  },
  {
   "cell_type": "markdown",
   "metadata": {},
   "source": [
    "$$M =\n",
    "\\begin{pmatrix}\n",
    "1 & \\frac{1-2q}{2} & -q \\\\\n",
    "\\frac{1-2q}{2} & 4q+1 & -\\frac{1}{2} \\\\\n",
    "-q & -\\frac{1}{2} & 4q + 1\n",
    "\\end{pmatrix}\n",
    "$$"
   ]
  },
  {
   "cell_type": "markdown",
   "metadata": {},
   "source": [
    "Найдем значения $q$, при которых квадратичная форма положительно определена"
   ]
  },
  {
   "cell_type": "markdown",
   "metadata": {},
   "source": [
    "$\\vartriangle_1 = 1 > 0$ при любых $q$\n",
    "\n",
    "$\\vartriangle_2 = -x^2+5x+\\frac{3}{4} > 0$ при $q \\in [-0.15, 5.14]$ (приближенно)\n",
    "\n",
    "$\\vartriangle_3 = -8x^3+17x^2+\\frac{17}{2}x+\\frac{1}{2} > 0$ при $q \\in [-\\infty, -0.36] \\cup [-0.07, 2.55]$ (приближенно)"
   ]
  },
  {
   "cell_type": "markdown",
   "metadata": {},
   "source": [
    "Таким образом, квадратичная форма положительно определена и уравнение задает единичную окружность относительно нормы при $q \\in [-0.07, 2.55]$"
   ]
  },
  {
   "cell_type": "markdown",
   "metadata": {},
   "source": [
    "Рассмотрим отрезок $OA$ c точками $O = (0, 0, 0)$ и $A = (1, 1, 1)$ на плоскости $z=ax+by+c$ \n",
    "\n",
    "$$\\begin{cases}\n",
    "0 = a \\cdot 0 + b \\cdot 0 + c \\\\\n",
    "1 = a \\cdot 1 + b \\cdot 1 + c\n",
    "\\end{cases} \\Rightarrow\n",
    "\\begin{cases}\n",
    "c = 0 \\\\\n",
    "a + b = 1\n",
    "\\end{cases}$$"
   ]
  },
  {
   "cell_type": "markdown",
   "metadata": {},
   "source": [
    "Рассмотрим два случая $(a=1\\land b=0)$ и $(a=0\\land b=1)$. Подставим полученные коэффициенты в уравнение плоскости, тогда прямая будет определяться плоскостями $z = y$ и $z = x$. Найдем точку пересечения этих плоскостей и эллипсоида: \n",
    "\n",
    "$$\\begin{cases}\n",
    "z = x \\\\\n",
    "z = y \\\\\n",
    "−2qxz+x^2 +xy(1−2q)+y^2(4q+1)−yz+ z^2 (4q + 1) = 1\n",
    "\\end{cases}$$"
   ]
  },
  {
   "cell_type": "markdown",
   "metadata": {},
   "source": [
    "$$−2qz^2+z^2 +z^2(1−2q)+z^2(4q+1)−z^2+ z^2 (4q + 1) = 1$$\n",
    "$$z^2(−2q+1 + 1−2q + 4q+1 − 1 + 4q + 1) = 1$$\n",
    "$$z^2(3 + 4q) = 1$$\n",
    "$$z^2 = \\frac{1}{3 + 4q}$$\n",
    "$$z = x = y = \\pm \\sqrt \\frac{1}{3 + 4q}$$"
   ]
  },
  {
   "cell_type": "markdown",
   "metadata": {},
   "source": [
    "Точка пересечения с $OA$ должна иметь координаты $>0$, значит\n",
    "\n",
    "$$ B = \\left( \\sqrt \\frac{1}{3 + 4q}, \\sqrt \\frac{1}{3 + 4q}, \\sqrt \\frac{1}{3 + 4q} \\right)$$"
   ]
  },
  {
   "cell_type": "markdown",
   "metadata": {},
   "source": [
    "Пусть $v = (1, 1, 1)$, тогда норма вектора $v$:\n",
    "\n",
    "$$\\nu(v) = \\frac{|OA|}{|OB|} = \\frac{\\sqrt 3}{\\sqrt \\frac{3}{3+4q}} = \\sqrt{3+4q}$$"
   ]
  },
  {
   "cell_type": "markdown",
   "metadata": {},
   "source": [
    "Ответ: \n",
    "\n",
    "Уравнение задает единичную окружность относительно нормы при $q \\in [-0.07, 2.55]$ (приближенно). Норма вектора $(1, 1, 1)$ равняется $\\sqrt{3+4q}$."
   ]
  }
 ],
 "metadata": {
  "kernelspec": {
   "display_name": "Python 3",
   "language": "python",
   "name": "python3"
  },
  "language_info": {
   "codemirror_mode": {
    "name": "ipython",
    "version": 3
   },
   "file_extension": ".py",
   "mimetype": "text/x-python",
   "name": "python",
   "nbconvert_exporter": "python",
   "pygments_lexer": "ipython3",
   "version": "3.7.4"
  }
 },
 "nbformat": 4,
 "nbformat_minor": 2
}
